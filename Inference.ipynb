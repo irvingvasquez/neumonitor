{
 "cells": [
  {
   "cell_type": "markdown",
   "metadata": {},
   "source": [
    "# Inferencia\n",
    "\n",
    "En este notebook se realiza la inferencia de un modelo previamente entrenado en la clasificación de neumonía y no neumonía."
   ]
  },
  {
   "cell_type": "code",
   "execution_count": 10,
   "metadata": {},
   "outputs": [],
   "source": [
    "import numpy as np\n",
    "import pandas as pd\n",
    "import pydicom\n",
    "%matplotlib inline\n",
    "import matplotlib.pyplot as plt\n",
    "import os\n",
    "\n",
    "import keras \n",
    "from keras.models import model_from_json\n"
   ]
  },
  {
   "cell_type": "code",
   "execution_count": 11,
   "metadata": {},
   "outputs": [
    {
     "name": "stdout",
     "output_type": "stream",
     "text": [
      "['test5.dcm', 'my_model.json', 'FDA_Submission_Template.md', 'Build and train model.ipynb', 'xray_class_my_model.best.hdf5', '.ipynb_checkpoints', 'test4.dcm', 'sample_labels.csv', 'Inference.ipynb', 'test6.dcm', 'test2.dcm', 'test3.dcm', 'EDA.ipynb', 'test1.dcm']\n"
     ]
    }
   ],
   "source": [
    "# Again we will see the data\n",
    "print(os.listdir('./'))"
   ]
  },
  {
   "cell_type": "code",
   "execution_count": 12,
   "metadata": {},
   "outputs": [],
   "source": [
    "# This function reads in a .dcm file, checks the important fields for our device, and returns a numpy array\n",
    "# of just the imaging data\n",
    "def check_dicom(filename): \n",
    "    # todo\n",
    "    \n",
    "    print('Load file {} ...'.format(filename))\n",
    "    ds = pydicom.dcmread(filename)  \n",
    "    \n",
    "    if (ds.BodyPartExamined !='CHEST') or (ds.Modality !='DX') or (ds.PatientPosition not in ['AP','PA']):\n",
    "        img = None\n",
    "    else:\n",
    "        print('Load file {} ...'.format(filename))\n",
    "        img = ds.pixel_array\n",
    "        \n",
    "    return img\n",
    "    \n",
    "    \n",
    "# This function takes the numpy array output by check_dicom and \n",
    "# runs the appropriate pre-processing needed for our model input\n",
    "def preprocess_image(img,img_mean,img_std,img_size): \n",
    "    # todo\n",
    "    #print(img.shape)\n",
    "    \n",
    "    img = (1/img_mean) * img\n",
    "    proc_img = np.zeros(img_size)\n",
    "\n",
    "    proc_img = np.resize(proc_img,img_size)\n",
    "    return proc_img\n",
    "\n",
    "# This function loads in our trained model w/ weights and compiles it \n",
    "def load_model(model_path, weight_path):\n",
    "    # load json and create model\n",
    "    json_file = open(model_path, 'r')\n",
    "    loaded_model_json = json_file.read()\n",
    "    json_file.close()\n",
    "    loaded_model = model_from_json(loaded_model_json)\n",
    "    \n",
    "    # load weights into new model\n",
    "    loaded_model.load_weights(weight_path)\n",
    "    print(\"Loaded model from disk\")\n",
    "\n",
    "    return loaded_model\n",
    "\n",
    "# This function uses our device's threshold parameters to predict whether or not\n",
    "# the image shows the presence of pneumonia using our trained model\n",
    "def predict_image(model, img, thresh): \n",
    "    # make a prediction\n",
    "    prediction = model.predict(img)    \n",
    "       \n",
    "    if(prediction[0] > thresh):\n",
    "        prediction = \"Pneumonia\" \n",
    "    else:\n",
    "        prediction = \"No Pneumonia\" \n",
    "    \n",
    "    return prediction "
   ]
  },
  {
   "cell_type": "code",
   "execution_count": 13,
   "metadata": {},
   "outputs": [
    {
     "name": "stdout",
     "output_type": "stream",
     "text": [
      "Loaded model from disk\n",
      "Load file test1.dcm ...\n",
      "Load file test1.dcm ...\n",
      "Pneumonia\n",
      "Load file test2.dcm ...\n",
      "Load file test2.dcm ...\n",
      "Pneumonia\n",
      "Load file test3.dcm ...\n",
      "Load file test3.dcm ...\n",
      "Pneumonia\n",
      "Load file test4.dcm ...\n",
      "Load file test5.dcm ...\n",
      "Load file test6.dcm ...\n"
     ]
    }
   ],
   "source": [
    "test_dicoms = ['test1.dcm','test2.dcm','test3.dcm','test4.dcm','test5.dcm','test6.dcm']\n",
    "\n",
    "model_path = 'my_model.json'\n",
    "weight_path = 'xray_class_my_model.best.hdf5'\n",
    "\n",
    "IMG_SIZE=(1,224,224,3) # This might be different if you did not use vgg16\n",
    "img_mean = 0.5\n",
    "img_std = 255\n",
    "\n",
    "my_model = load_model(model_path, weight_path)\n",
    "thresh = 0.005\n",
    "\n",
    "# use the .dcm files to test your prediction\n",
    "for i in test_dicoms:\n",
    "    \n",
    "    img = np.array([])\n",
    "    img = check_dicom(i)\n",
    "    \n",
    "    if img is None:\n",
    "        continue\n",
    "     \n",
    "    #print(img.shape())\n",
    "    img_proc = preprocess_image(img,img_mean,img_std,IMG_SIZE)\n",
    "    pred = predict_image(my_model,img_proc,thresh)\n",
    "    print(pred)"
   ]
  },
  {
   "cell_type": "code",
   "execution_count": null,
   "metadata": {},
   "outputs": [],
   "source": []
  }
 ],
 "metadata": {
  "kernelspec": {
   "display_name": "Python 3",
   "language": "python",
   "name": "python3"
  },
  "language_info": {
   "codemirror_mode": {
    "name": "ipython",
    "version": 3
   },
   "file_extension": ".py",
   "mimetype": "text/x-python",
   "name": "python",
   "nbconvert_exporter": "python",
   "pygments_lexer": "ipython3",
   "version": "3.7.6"
  }
 },
 "nbformat": 4,
 "nbformat_minor": 2
}
